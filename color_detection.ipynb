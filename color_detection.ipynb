{
 "cells": [
  {
   "cell_type": "code",
   "execution_count": null,
   "id": "72ed3678",
   "metadata": {},
   "outputs": [],
   "source": [
    "import cv2\n",
    "from color_recognition_api import color_histogram_feature_extraction\n",
    "from color_recognition_api import knn_classifier\n",
    "import os\n",
    "import os.path\n",
    "import sys\n",
    "\n",
    "# read the test image\n",
    "try:\n",
    "    source_image = cv2.imread(sys.argv[1])\n",
    "except:\n",
    "    source_image = cv2.imread('black_cat.jpg')\n",
    "prediction = 'n.a.'\n",
    "\n",
    "# checking whether the training data is ready\n",
    "PATH = './training.data'\n",
    "\n",
    "if os.path.isfile(PATH) and os.access(PATH, os.R_OK):\n",
    "    print ('training data is ready, classifier is loading...')\n",
    "else:\n",
    "    print ('training data is being created...')\n",
    "    open('training.data', 'w')\n",
    "    color_histogram_feature_extraction.training()\n",
    "    print ('training data is ready, classifier is loading...')\n",
    "\n",
    "# get the prediction\n",
    "color_histogram_feature_extraction.color_histogram_of_test_image(source_image)\n",
    "prediction = knn_classifier.main('training.data', 'test.data')\n",
    "print('Detected color is:', prediction)\n",
    "cv2.putText(\n",
    "    source_image,\n",
    "    'Prediction: ' + prediction,\n",
    "    (15, 45),\n",
    "    cv2.FONT_HERSHEY_PLAIN,\n",
    "    3,\n",
    "    200,\n",
    "    )\n",
    "\n",
    "# Display the resulting frame\n",
    "cv2.imshow('color classifier', source_image)\n",
    "cv2.waitKey(0)"
   ]
  }
 ],
 "metadata": {
  "kernelspec": {
   "display_name": "Python 3",
   "language": "python",
   "name": "python3"
  },
  "language_info": {
   "codemirror_mode": {
    "name": "ipython",
    "version": 3
   },
   "file_extension": ".py",
   "mimetype": "text/x-python",
   "name": "python",
   "nbconvert_exporter": "python",
   "pygments_lexer": "ipython3",
   "version": "3.8.8"
  }
 },
 "nbformat": 4,
 "nbformat_minor": 5
}
